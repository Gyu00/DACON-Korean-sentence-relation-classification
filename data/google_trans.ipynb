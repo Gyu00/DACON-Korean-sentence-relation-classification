{
 "cells": [
  {
   "cell_type": "code",
   "execution_count": 1,
   "metadata": {},
   "outputs": [],
   "source": [
    "from googletrans import Translator\n",
    "translator = Translator()\n"
   ]
  },
  {
   "cell_type": "code",
   "execution_count": 2,
   "metadata": {},
   "outputs": [
    {
     "name": "stdout",
     "output_type": "stream",
     "text": [
      "Translated(src=ko, dest=en, text=Hello., pronunciation=None, extra_data=\"{'confiden...\")\n"
     ]
    }
   ],
   "source": [
    "result = translator.translate('안녕하세요.', dest='en')\n",
    "print(result)"
   ]
  },
  {
   "cell_type": "code",
   "execution_count": 3,
   "metadata": {},
   "outputs": [
    {
     "data": {
      "text/plain": [
       "'Hello.'"
      ]
     },
     "execution_count": 3,
     "metadata": {},
     "output_type": "execute_result"
    }
   ],
   "source": [
    "result.text"
   ]
  },
  {
   "cell_type": "code",
   "execution_count": null,
   "metadata": {},
   "outputs": [],
   "source": [
    "'''\n",
    "[ 특징 ]\n",
    "\n",
    "1.비교적 빨리 결과를 반환한다.\n",
    "\n",
    "2. https://translate.google.com/에서 번역기 서비스를 사용하는 것과 동일한 서버를 사용해 연산을 수행한다.\n",
    "\n",
    "3. 입력된 문자열에 해당하는 언어를 자동으로 탐지하는 자동 감지 기능을 지원한다.\n",
    "\n",
    "4. 많은 양의 번역도 수행 가능하다.\n",
    "\n",
    "6. 맞춤형 번역 서비스 URL를 지원한다.\n",
    "\n",
    "​\n",
    "\n",
    "[ 주의사항 ]\n",
    "\n",
    "1. translate.google.com의 웹 API를 사용하는 비공식 라이브러리다.\n",
    "\n",
    "2. 단일 텍스트의 최대 글자 수는 15,000 정도다.\n",
    "\n",
    "3. 구글 번역 웹 버전의 제한으로 안정성을 완전히 보장하지 않는다.\n",
    "\n",
    "4. 비공식 라이브러리이기 때문에 과도하게 자주 사용하면 IP를 차단 당할 수 있다.\n",
    "'''"
   ]
  }
 ],
 "metadata": {
  "interpreter": {
   "hash": "2c39af01db7e5e89c1e753993506de54aa8f521ca6337a14a2932707cbddefc0"
  },
  "kernelspec": {
   "display_name": "Python 3.9.5 64-bit ('py39': conda)",
   "language": "python",
   "name": "python3"
  },
  "language_info": {
   "codemirror_mode": {
    "name": "ipython",
    "version": 3
   },
   "file_extension": ".py",
   "mimetype": "text/x-python",
   "name": "python",
   "nbconvert_exporter": "python",
   "pygments_lexer": "ipython3",
   "version": "3.9.5"
  },
  "orig_nbformat": 4
 },
 "nbformat": 4,
 "nbformat_minor": 2
}
