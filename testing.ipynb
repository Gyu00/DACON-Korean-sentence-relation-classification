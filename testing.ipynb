{
 "cells": [
  {
   "cell_type": "code",
   "execution_count": 1,
   "metadata": {},
   "outputs": [],
   "source": [
    "import numpy as np\n",
    "import pandas as pd\n",
    "\n",
    "from transformers import pipeline, AutoTokenizer\n",
    "from tqdm import tqdm"
   ]
  },
  {
   "cell_type": "code",
   "execution_count": 3,
   "metadata": {},
   "outputs": [],
   "source": [
    "DATA_PATH = f\"D:\\code\\DACON-Korean-sentence-relation-classification\\open\\open\"\n",
    "#train = pd.read_csv(os.path.join(DATA_PATH, \"train_data.csv\"))\n",
    "#test = pd.read_csv(os.path.join(DATA_PATH, \"test_data.csv\") )\n",
    "#submission = pd.read_csv(os.path.join(DATA_PATH, \"sample_submission.csv\"))"
   ]
  },
  {
   "cell_type": "code",
   "execution_count": 7,
   "metadata": {},
   "outputs": [],
   "source": [
    "max_len = 70\n",
    "batch_size = 128\n",
    "warmup_ratio = 0.1\n",
    "num_epochs = 5\n",
    "max_grad_norm = 1\n",
    "log_interval = 200\n",
    "learning_rate = 5e-5\n",
    "\n",
    "device = torch.device(\"cuda:0\")"
   ]
  },
  {
   "cell_type": "code",
   "execution_count": 2,
   "metadata": {},
   "outputs": [
    {
     "name": "stderr",
     "output_type": "stream",
     "text": [
      "Downloading: 100%|██████████| 499/499 [00:00<00:00, 246kB/s]\n",
      "Downloading: 100%|██████████| 926/926 [00:00<00:00, 307kB/s]\n",
      "Downloading: 100%|██████████| 243k/243k [00:00<00:00, 323kB/s]\n",
      "Downloading: 100%|██████████| 483k/483k [00:00<00:00, 634kB/s]\n",
      "Downloading: 100%|██████████| 112/112 [00:00<00:00, 109kB/s]\n",
      "Downloading: 100%|██████████| 422M/422M [00:23<00:00, 18.8MB/s]\n"
     ]
    }
   ],
   "source": [
    "tokenizer = AutoTokenizer.from_pretrained(\"Huffon/klue-roberta-base-nli\")\n",
    "model = pipeline(\"text-classification\", model=\"Huffon/klue-roberta-base-nli\", return_all_scores=False)"
   ]
  },
  {
   "cell_type": "code",
   "execution_count": 4,
   "metadata": {},
   "outputs": [],
   "source": [
    "df_test = pd.read_csv(os.path.join(DATA_PATH, \"test_data.csv\") )\n",
    "X_test = df_test[\"premise\"] + \" \" + tokenizer.sep_token + \" \" + df_test[\"hypothesis\"]"
   ]
  },
  {
   "cell_type": "code",
   "execution_count": 5,
   "metadata": {},
   "outputs": [
    {
     "name": "stderr",
     "output_type": "stream",
     "text": [
      "100%|██████████| 1666/1666 [01:04<00:00, 25.73it/s]\n"
     ]
    }
   ],
   "source": [
    "y_preds = []\n",
    "for i in tqdm(range(X_test.shape[0])):\n",
    "    y_pred = model(X_test[i])[0][\"label\"].lower()\n",
    "    y_preds.append(y_pred)\n",
    "\n",
    "y_preds = np.array(y_preds)"
   ]
  },
  {
   "cell_type": "code",
   "execution_count": 8,
   "metadata": {},
   "outputs": [],
   "source": [
    "df_test[\"label\"] = y_preds\n",
    "df_submission = df_test.loc[:, [\"index\", \"label\"]]\n",
    "df_submission.to_csv(\"./results/Huffon-klue-roberta-base-nli.csv\", index=False)"
   ]
  },
  {
   "cell_type": "code",
   "execution_count": null,
   "metadata": {},
   "outputs": [],
   "source": []
  }
 ],
 "metadata": {
  "interpreter": {
   "hash": "2c39af01db7e5e89c1e753993506de54aa8f521ca6337a14a2932707cbddefc0"
  },
  "kernelspec": {
   "display_name": "Python 3.9.5 64-bit ('py39': conda)",
   "language": "python",
   "name": "python3"
  },
  "language_info": {
   "codemirror_mode": {
    "name": "ipython",
    "version": 3
   },
   "file_extension": ".py",
   "mimetype": "text/x-python",
   "name": "python",
   "nbconvert_exporter": "python",
   "pygments_lexer": "ipython3",
   "version": "3.9.5"
  },
  "orig_nbformat": 4
 },
 "nbformat": 4,
 "nbformat_minor": 2
}
